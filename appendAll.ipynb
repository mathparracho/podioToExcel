{
 "cells": [
  {
   "cell_type": "code",
   "execution_count": null,
   "metadata": {},
   "outputs": [],
   "source": [
    "import pandas as pd\n",
    "from matplotlib import pyplot as plt\n",
    "import numpy as np\n",
    "from send2trash import send2trash"
   ]
  },
  {
   "cell_type": "code",
   "execution_count": null,
   "metadata": {},
   "outputs": [],
   "source": [
    "names = [\"confederations\",\"clubs-teams\", \"companies\",\"competitions\",\"gov\",\"public-agents\",\"athletics\",\"professionals\",\"university-ecosystem\",\"schools\",\"universities\"]"
   ]
  },
  {
   "cell_type": "code",
   "execution_count": null,
   "metadata": {},
   "outputs": [],
   "source": [
    "for name in names:\n",
    "    d_frames = []\n",
    "    for i in range (0,20):\n",
    "        try:\n",
    "            d_frames += [pd.read_excel(name + str(i) + \".xlsx\")]\n",
    "            send2trash(name + str(i) + \".xlsx\")\n",
    "        except:\n",
    "            break\n",
    "    \n",
    "    k = d_frames[0]\n",
    "    for j in range(1,len(d_frames)):\n",
    "        result = k.append(d_frames[j], ignore_index=True)\n",
    "        k = result\n",
    "\n",
    "        \n",
    "    path = r\"%s.xlsx\"%name\n",
    "    writer = pd.ExcelWriter(path, engine = 'xlsxwriter')\n",
    "    \n",
    "    result.to_excel(writer, sheet_name = 'Elements',index=False)\n",
    "    \n",
    "    writer.save()\n",
    "    writer.close()"
   ]
  },
  {
   "cell_type": "code",
   "execution_count": null,
   "metadata": {},
   "outputs": [],
   "source": []
  },
  {
   "cell_type": "code",
   "execution_count": null,
   "metadata": {},
   "outputs": [],
   "source": []
  }
 ],
 "metadata": {
  "kernelspec": {
   "display_name": "Python 3",
   "language": "python",
   "name": "python3"
  },
  "language_info": {
   "codemirror_mode": {
    "name": "ipython",
    "version": 3
   },
   "file_extension": ".py",
   "mimetype": "text/x-python",
   "name": "python",
   "nbconvert_exporter": "python",
   "pygments_lexer": "ipython3",
   "version": "3.7.4"
  }
 },
 "nbformat": 4,
 "nbformat_minor": 2
}
