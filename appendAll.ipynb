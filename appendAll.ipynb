{
 "cells": [
  {
   "cell_type": "code",
   "execution_count": 5,
   "metadata": {},
   "outputs": [],
   "source": [
    "import pandas as pd\n",
    "from matplotlib import pyplot as plt\n",
    "import numpy as np\n",
    "from send2trash import send2trash"
   ]
  },
  {
   "cell_type": "code",
   "execution_count": 6,
   "metadata": {},
   "outputs": [],
   "source": [
    "names = [\"confederations\",\"clubs-teams\", \"companies\",\"competitions\",\"gov\",\"public-agents\",\"athletics\",\"professionals\",\"university-ecosystem\",\"schools\",\"universities\"]"
   ]
  },
  {
   "cell_type": "code",
   "execution_count": 7,
   "metadata": {},
   "outputs": [
    {
     "name": "stderr",
     "output_type": "stream",
     "text": [
      "D:\\Anaconda\\lib\\site-packages\\xlsxwriter\\worksheet.py:931: UserWarning: Ignoring URL 'https://l.facebook.com/l.php?u=http%3A%2F%2Fbiribol.com.br%2F%3Ffbclid%3DIwAR16AbYFWQ9WzFwtxeydF_VScTe1PsrOAFhu7rKUdsQi9QlMQtFjzqAvh2w&h=AT0eWv9FRNCkOQ0u8yoDQ-f9e7ufFKiK7G1vdNZ5biHUnO_qxCzU2_SpKf_UtkeJJpL4-rSX9WYqkHtWtr7AuLcnDsQkl7Rl1lK4dVXAVShOb4o0XAphL69cLDm9egEE5mqxpw' with link or location/anchor > 255 characters since it exceeds Excel's limit for URLS\n",
      "  force_unicode(url))\n",
      "D:\\Anaconda\\lib\\site-packages\\xlsxwriter\\worksheet.py:931: UserWarning: Ignoring URL 'https://l.facebook.com/l.php?u=http%3A%2F%2Fwww.fmkb.com.br%2F%3Ffbclid%3DIwAR0l-HHud-ZcWhYPNCxPWNvO3M9rMG18PYpAJS3wyddo9Buvzc2CY4-vi5Q&h=AT3f5ZAfTgCXZ3hP91s9O0bzsXVfwZASe1TsJqzyElM9xqqYCGOlSAAft4ZQb_c_bsoTUKtqxKTGcowBiCJRyN8EfqHVdVkMzwNvyUQ0U1pSQQkEqKQGAhkJOMZCrZRli8CXcO6-wFd_GK_hF15jhQ' with link or location/anchor > 255 characters since it exceeds Excel's limit for URLS\n",
      "  force_unicode(url))\n",
      "D:\\Anaconda\\lib\\site-packages\\xlsxwriter\\worksheet.py:931: UserWarning: Ignoring URL 'https://www.facebook.com/login.php?skip_api_login=1&api_key=966242223397117&signed_next=1&next=https%3A%2F%2Fwww.facebook.com%2Fsharer.php%3Fu%3Dhttp%253A%252F%252Fwww.fcerj.com.br%26t%3DCheck%2Bout%2Bhttp%253A%252F%252Fwww.fcerj.com.br%26display%3Dpopup&cancel_url=https%3A%2F%2Fwww.facebook.com%2Fdialog%2Fclose_window%2F%3Fapp_id%3D966242223397117%26connect%3D0%23_%3D_&display=popup&locale=pt_BR' with link or location/anchor > 255 characters since it exceeds Excel's limit for URLS\n",
      "  force_unicode(url))\n",
      "D:\\Anaconda\\lib\\site-packages\\xlsxwriter\\worksheet.py:931: UserWarning: Ignoring URL 'https://l.facebook.com/l.php?u=http%3A%2F%2Fwww.aliancapoeira.com%2F%3Ffbclid%3DIwAR2ksOhW5q2pviPaZkeyW7bCTDU0GPa6RLbbMA9R_qMcr2U4YCdGcXUUTZg&h=AT1pAPB9IxpKy8a0_Guyx3Tpf2frlg24nLoKfq3sl8_pqNvHtnz5p_D6J9u_t-iI_3E8J3CAN0Ma4p2pWz4XvfOdV1CmTh2s-Mkt7UYVOQaBdF-2gaVRbM3_eWE3ffzlurtX1A' with link or location/anchor > 255 characters since it exceeds Excel's limit for URLS\n",
      "  force_unicode(url))\n",
      "D:\\Anaconda\\lib\\site-packages\\xlsxwriter\\worksheet.py:931: UserWarning: Ignoring URL 'https://l.facebook.com/l.php?u=http%3A%2F%2Fassifpi.com.br%2F%3Ffbclid%3DIwAR21vVA6md5E1Kalq16omoLa7RwHjtl3i1g5EhYFjNqlWtgqTDS2-2XqKUU&h=AT05Hhj2Gz4fNwWo64ZkNxPGa-4AofAr3YkBfmha9Xf4F2ovDynRaL6hLxqT_-Gus5MRSHaNCSp_A6lW1TE9a2CFerkJEhCoadqco2EqSLc5pnKUC-fCrvce8VTPS53XuBqIyA' with link or location/anchor > 255 characters since it exceeds Excel's limit for URLS\n",
      "  force_unicode(url))\n",
      "D:\\Anaconda\\lib\\site-packages\\xlsxwriter\\worksheet.py:931: UserWarning: Ignoring URL 'https://l.facebook.com/l.php?u=http%3A%2F%2Fwww.lphbce.blogspot.com%2F%3Ffbclid%3DIwAR3OpuVJ39w2j5hsFz64bzKsHlv0a3-xPrpZGcPLfEoC1o-crRdJIEUtnJY&h=AT3lqqmzeqWhsaKvS6nJKaApY36TdLvrPWLpVpUIiFXeYNFLPYMlGeFJdEgTU5mttGaaz8J-Hq-KAe3wbiBBX0Hk3QcM1-kKaTimHD2TBp7JHw00of99y1aGxEPlm376gMsA_S7Qh8rqhL5nTaQAsQ' with link or location/anchor > 255 characters since it exceeds Excel's limit for URLS\n",
      "  force_unicode(url))\n",
      "D:\\Anaconda\\lib\\site-packages\\xlsxwriter\\worksheet.py:931: UserWarning: Ignoring URL 'https://l.facebook.com/l.php?u=http%3A%2F%2Fwww.clubeinternacionaldorecife.com.br%2F%3Ffbclid%3DIwAR28D6JH_kJ_tfl4avI7GZ8QDcrBuxh8_6wtYxl-ACD7iyIq5HTCzuYWvCc&h=AT3BfXixTQ86ag0_uQPrc5P71zKMjLdcV2JNsqbSAIG_bU67ZBA4n62GRO3kt0J0Z7YntUvk8yT18_e3pDdiMHWbst3L9YaTEr3HAJYpxfEf7jMhoqtU_GRyobHFyGa-xxjeWYSug6G1yDMBUAxhQg' with link or location/anchor > 255 characters since it exceeds Excel's limit for URLS\n",
      "  force_unicode(url))\n",
      "D:\\Anaconda\\lib\\site-packages\\xlsxwriter\\worksheet.py:931: UserWarning: Ignoring URL 'https://l.facebook.com/l.php?u=http%3A%2F%2Fwww.chbihandebol.com.br%2F%3Ffbclid%3DIwAR2tWu7Yerew88PPeJ2lAbVlOdE9TrQgW890A9BND2znaqoZvDsVU5VQosc&h=AT23ULdow50ejvww2jSjWdvHhwhz9eJcJuhHUua8SutbCVpuo60nR-v8aO78GdcJ3F8KX-tLWm8kOoNDlewjuJDA3bghDL6KWWUBK8x635iXPshH6_fEukAowHDMgmzDu7LeCcNJQc5L-ojEvcwqyQ' with link or location/anchor > 255 characters since it exceeds Excel's limit for URLS\n",
      "  force_unicode(url))\n",
      "D:\\Anaconda\\lib\\site-packages\\xlsxwriter\\worksheet.py:931: UserWarning: Ignoring URL 'https://www.facebook.com/Terrenense-Futebol-Clube-743045255750626/?ref=page_internal&eid=ARA5frVXbEqlAcE0yWznZ7aDi4FbbqQEHjhNdYX3eXUH-MfDcVyWdZu4Hz93x6JYqfuDCKl4Ta8lax6m&hc_ref=ARR4JQQ2HvMZ6QKuwhQpFCCBNbN5GG8lF2PARdTImT219BgZRRceIQN0yoRswY32oNo&fref=nf&__xts__[0]=68.ARCOgHtOXaaylxX0Euklke-qXqZxT11QSaK3AGSmtmiKZdjQaP6NA0MflFwKn4MhwBFOFsHoimrB1LzHd2fzFsSPdzRhZxA8XzmXxpT7MJ4BgFXvsTj-wKVxJLCHCa9M4nQU0dnL8Yc23zc069rvWklsCVfIty6wi1Dvz1WKcEVMZx1td5g-lkQvcOr20EdeV9jXZ3lUKeMllyEPqenBFmrVc5GIZaZ1Wg0DaKAZ96bKSj5EYInRn6AiELElUlnWmr6gzW29lFR9NLQME1daKGYfGIXhSVY9PoqMJSiYrVx5AX7o1OQLOfUyRirvLRlbqmKu3XKAHt3gkESyks4&path=%2FTerrenense-Futebol-Clube-743045255750626%2F' with link or location/anchor > 255 characters since it exceeds Excel's limit for URLS\n",
      "  force_unicode(url))\n",
      "D:\\Anaconda\\lib\\site-packages\\xlsxwriter\\worksheet.py:931: UserWarning: Ignoring URL 'https://l.facebook.com/l.php?u=https%3A%2F%2Fwww.instagram.com%2Fraiarapidaufmt%2F%3Ffbclid%3DIwAR2R-V663QI103YZJ6T7QpNgo35PGVMnNh0mqjJBU_eCi8w90k4K52Fqu8s&h=AT36GbcjKzUzMIB689VwGUDKCoi4e34yAGQic7a1YoHaU4XQKk2v5BJyJP7XKdHnlK1egixWdjR2C0MA_eTvSFg1ZAj66anxH_I04pHRGlt3qdeJb4M1621odfm8hKblxRiL' with link or location/anchor > 255 characters since it exceeds Excel's limit for URLS\n",
      "  force_unicode(url))\n",
      "D:\\Anaconda\\lib\\site-packages\\xlsxwriter\\worksheet.py:931: UserWarning: Ignoring URL 'https://l.facebook.com/l.php?u=http%3A%2F%2Finstagram.com%2Finstitutosilvia%3Ffbclid%3DIwAR10lnVqaMZv1gGQ5iWDj51i9xV9Xl5BcuZ0JelbHrE3yyDpjdnCSg9pBYo&h=AT3XqPbpHhC96lY1nKvyWz4E3greWUX8JXAv4Si2w4UxQH2iRRFGmQl8Kh3gKGv_rS2LkTlI2iWD5Y796gCoScM6twabrS3odY6B6HgGkYGko11QBtnKxCF_G-FgQr9qzxPP2g' with link or location/anchor > 255 characters since it exceeds Excel's limit for URLS\n",
      "  force_unicode(url))\n",
      "D:\\Anaconda\\lib\\site-packages\\xlsxwriter\\worksheet.py:931: UserWarning: Ignoring URL 'https://l.facebook.com/l.php?u=http%3A%2F%2Fwww.instagram.com%2Fassociacao.atlef%2F%3Ffbclid%3DIwAR19QEogxSZUqVI0iX6WR2tz2cFFX2M1i2D3K71vqnDK4KRuUeLf8FSxTtY&h=AT2detyuKh7tcx8qGGBXVb9DwseC3xIGDAXmGOu2Sa76pyDD0ZHdJs3EdkjpDuPUHKoVcfcMVsWbhEmMojSxofmM_BktrfDsTON9rWqReR3dC4fn9kvuHINtCHGbBQqPd1gVDg' with link or location/anchor > 255 characters since it exceeds Excel's limit for URLS\n",
      "  force_unicode(url))\n",
      "D:\\Anaconda\\lib\\site-packages\\xlsxwriter\\worksheet.py:931: UserWarning: Ignoring URL 'https://twitter.com/intent/follow?original_referer=https%3A%2F%2Fstatic.parastorage.com%2Fservices%2Fsanta%2F1.3510.42%2Fstatic%2Fexternal%2Ftwitter.html%3Falign%3Dleft%26compId%3Dia73m55i%26href%3Dhttps%253A%252F%252Ftwitter.com%252FVescoMC%26lang%3Den%26origin%3Dhttps%253A%252F%252Fwww.rugbychairs.com%26screen_name%3DVescoMC%26show_count%3Dtrue%26show_screen_name%3Dtrue%26widgetType%3DFOLLOW&ref_src=twsrc%5Etfw&screen_name=VescoMC&tw_p=followbutton' with link or location/anchor > 255 characters since it exceeds Excel's limit for URLS\n",
      "  force_unicode(url))\n",
      "D:\\Anaconda\\lib\\site-packages\\xlsxwriter\\worksheet.py:931: UserWarning: Ignoring URL 'https://l.facebook.com/l.php?u=https%3A%2F%2Fatleticaimed.wixsite.com%2Faaampmfmedicina%3Ffbclid%3DIwAR17oppTwXihv9HoKcax2uRmMK0hNVA5oGFLhOrF0p9JlYEC6cQKsfKVCjM&h=AT2va0vjfASmM9oVpx0-_GH1TSbHTnFjhOZHBWMMflk-ume6HQz-9ogkHyAiJNwwAdkM8sKJVTZxp-wnC76Qvb6oVY9Q1jeTDq_DMCXFQau7QxyxIOgrRAT9Tqx3Wl00uMNawg' with link or location/anchor > 255 characters since it exceeds Excel's limit for URLS\n",
      "  force_unicode(url))\n",
      "D:\\Anaconda\\lib\\site-packages\\xlsxwriter\\worksheet.py:931: UserWarning: Ignoring URL 'https://l.facebook.com/l.php?u=http%3A%2F%2Faaagpf.com%2F%3Ffbclid%3DIwAR1USN-FlEv2CjDmFR2l4tAPFt6nxQOVrVRu4Jde8Sedit6cc-wFXoG3XS0&h=AT0LNs_JovsEG4Go5zY8yp2pBqIsTQtW8wO1H5uSkQntuNaNEE2RK5BRX2oc08O2GdbT7NpvF-B9Wev_ui3ccI0GC324bsG5juryo8FgnKpqgev5AmqgpkqwgcaCKjZQRUueuw' with link or location/anchor > 255 characters since it exceeds Excel's limit for URLS\n",
      "  force_unicode(url))\n",
      "D:\\Anaconda\\lib\\site-packages\\xlsxwriter\\worksheet.py:931: UserWarning: Ignoring URL 'https://l.facebook.com/l.php?u=http%3A%2F%2Fatleticameduffspf.wixsite.com%2Faaamdml%3Ffbclid%3DIwAR1ph4hkbM4E8SCP56BqdSkxc3P-voe_4XJcQ6pMjVkd0_17ubpOc1yI89A&h=AT0NRJ57Ll4-eBN3UZBa3iDMKFcyciLwUVDVVUieInS1zfqNWAV8nQfcAsn83S3ut1oFsmgQSMUVEQkwtBYftD7dkQ-lbCBhpuXA6Ocyz4wmQBFIj5MN78sJT8Xgd3mZt8jpYw' with link or location/anchor > 255 characters since it exceeds Excel's limit for URLS\n",
      "  force_unicode(url))\n",
      "D:\\Anaconda\\lib\\site-packages\\xlsxwriter\\worksheet.py:931: UserWarning: Ignoring URL 'https://l.facebook.com/l.php?u=https%3A%2F%2Faaadorousp.blogspot.com%2F%3Ffbclid%3DIwAR1Nn5a2Tjo9nZNkjcJaHCeP8h4uBeOt1zawinDyWs1i9sGDLVoRIw6y7dw&h=AT2iW12sLvMfb1XflGWYKqmXEbJI14I7CcL2xKoXsBdbQkO5KQvQiAkk_PlJA_MnJdijG3IhOGT6XoOM7nVhgN9BFd_9-rFoTM2D1f016wjLwwDS0iddImWUzFCespGwZpwBRQ' with link or location/anchor > 255 characters since it exceeds Excel's limit for URLS\n",
      "  force_unicode(url))\n",
      "D:\\Anaconda\\lib\\site-packages\\xlsxwriter\\worksheet.py:931: UserWarning: Ignoring URL 'https://l.facebook.com/l.php?u=http%3A%2F%2Fatleticaixdesetembro.wixsite.com%2Fvetusp%3Ffbclid%3DIwAR3YNw7bYsU_B1UMJdVRBBD7iXEzJWWOJeWg9z5zuoL9rwhRTdoVYJcAtQk&h=AT24BK8Ed9JhvDERy6YLk30hiE8GEDN6YR229vDmj7eVDVLGHhDH7aAIsfw3iOl_xzkCAk2NOvhg5mfzJD4rUkbDUhfJP3XJdljWA1JyePCFkCFXVdWw71bY9rtSSM9YNke9jgLyent6J5SX4PT-UeTt4CcwYHEMwFyH1A90Ww-ikhlyAuEcI60slOF0RUxIuX4LUBTYdPaCi9UcMKwzjKHZq7ZhIQmWObwQb8B8NNiPpHGi_AsoH_g1q8wH0JerfBt9d2KitteHo2Yd_3iNA1XavpTaoKDLEhoPNWjj62aLkF5Z-Web8D6RPr4XgOcjh6TK-tahUCT41XtdMqo9M7rOBLCEue-M0B2HwmCJ7VJxi_Dvh0TvAGXqfSSFmjcSSCivjBendcPW_rYSPb30vIJkqc0XGS0_vmqtGAwmQCyYH4N-MZj81JPrZrEb5JUOJuMISVVrees4yHL4LCOzxEslvZd1iwM-XdMYkk_Lsy2nnEfENaFL2w4' with link or location/anchor > 255 characters since it exceeds Excel's limit for URLS\n",
      "  force_unicode(url))\n"
     ]
    },
    {
     "name": "stderr",
     "output_type": "stream",
     "text": [
      ]
    },
    {
     "name": "stderr",
     "output_type": "stream",
     "text": [
      "D:\\Anaconda\\lib\\site-packages\\xlsxwriter\\worksheet.py:931: UserWarning: Ignoring URL 'https://l.facebook.com/l.php?u=https%3A%2F%2Fwww.youtube.com%2FDARSFAAP%3Ffbclid%3DIwAR1y6TpFX_moYjd72KbW1M1pTFhGBqGif93UZ2vl73TO42enrOH-aj4Vbdw&h=AT14PHfPeDfDgeW2e8JyrI7iDvdGnjinblG_xic1hmhJ5GT5A2H6fM_cY2U0y49fMR9Eavk3m7EWe5hs1xhn1qgeHkyxggwqnzudRfSq32EPQkhYJCroo45j0Abg7HZ8bbu-7zywvKI8FkOeK6xaBOgx' with link or location/anchor > 255 characters since it exceeds Excel's limit for URLS\n",
      "  force_unicode(url))\n"
     ]
    }
   ],
   "source": [
    "for name in names:\n",
    "    d_frames = []\n",
    "    for i in range (0,20):\n",
    "        try:\n",
    "            d_frames += [pd.read_excel(name + str(i) + \".xlsx\")]\n",
    "            send2trash(name + str(i) + \".xlsx\")\n",
    "        except:\n",
    "            break\n",
    "    \n",
    "    k = d_frames[0]\n",
    "    for j in range(1,len(d_frames)):\n",
    "        result = k.append(d_frames[j], ignore_index=True)\n",
    "        k = result\n",
    "\n",
    "        \n",
    "    path = r\"%s.xlsx\"%name\n",
    "    writer = pd.ExcelWriter(path, engine = 'xlsxwriter')\n",
    "    \n",
    "    result.to_excel(writer, sheet_name = 'Elements',index=False)\n",
    "    \n",
    "    writer.save()\n",
    "    writer.close()"
   ]
  },
  {
   "cell_type": "code",
   "execution_count": null,
   "metadata": {},
   "outputs": [],
   "source": []
  },
  {
   "cell_type": "code",
   "execution_count": null,
   "metadata": {},
   "outputs": [],
   "source": []
  }
 ],
 "metadata": {
  "kernelspec": {
   "display_name": "Python 3",
   "language": "python",
   "name": "python3"
  },
  "language_info": {
   "codemirror_mode": {
    "name": "ipython",
    "version": 3
   },
   "file_extension": ".py",
   "mimetype": "text/x-python",
   "name": "python",
   "nbconvert_exporter": "python",
   "pygments_lexer": "ipython3",
   "version": "3.7.4"
  }
 },
 "nbformat": 4,
 "nbformat_minor": 2
}
